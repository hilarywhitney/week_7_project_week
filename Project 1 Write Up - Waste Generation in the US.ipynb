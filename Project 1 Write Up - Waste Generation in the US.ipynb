{
 "cells": [
  {
   "cell_type": "markdown",
   "metadata": {},
   "source": [
    "## Project 1 - Waste Generation in the US Summary"
   ]
  },
  {
   "cell_type": "markdown",
   "metadata": {},
   "source": [
    "#### Question 1: How has the volume of waste produced in the US changed?"
   ]
  },
  {
   "cell_type": "markdown",
   "metadata": {},
   "source": [
    "Waste has dramatically increased over the years from 1960 to 2010. The most dramatic increase occured between 1960 and 1970 with high growth of 40%. High year over year growth continued until 2000 when growth took a dramatic decrease to 2%. In terms of type of waste produced, the breakdown of Material, Durable Good, Non Durable Good, and Packaging/Container Waste was consistent throughout the years."
   ]
  },
  {
   "cell_type": "markdown",
   "metadata": {},
   "source": [
    "#### How have our processing methods shifted (recycling vs landfill vs combustion)?"
   ]
  },
  {
   "cell_type": "markdown",
   "metadata": {},
   "source": [
    "While recylcing rates were low in the 60s and 70s (7%), the US saw a large upswing in rates between 1990 and 2010 ending at 35%. Combustion also experienced a significant increase from the 1990s on. Looking at what type of material was combusted, there is an even breakdown between all waste categories other than Packaging/Containers (which do not undergo combustion). This is potentially due to the higher recycle rate of Packaging/Containers.  "
   ]
  },
  {
   "cell_type": "markdown",
   "metadata": {},
   "source": [
    "#### Has the % increase in waste produced tracked with GDP or Population increases?"
   ]
  },
  {
   "cell_type": "markdown",
   "metadata": {},
   "source": [
    "Percentage increase in GDP has somewhat tracked with waste generation increases with the largest increase occuring between 1960 and 1970 and the largest slow down in growth occuring from 2000 to 2010. Population increase on the other hand did not appear to have any correlation with waste generation increases as it stayed relatively stable. "
   ]
  },
  {
   "cell_type": "markdown",
   "metadata": {},
   "source": [
    "#### How has our preferred material changed for packaging and containers?"
   ]
  },
  {
   "cell_type": "markdown",
   "metadata": {},
   "source": [
    "Our preference for steel and glass went down as % of plastic used increased. Paperboard stayed relatively the same."
   ]
  },
  {
   "cell_type": "code",
   "execution_count": null,
   "metadata": {},
   "outputs": [],
   "source": []
  }
 ],
 "metadata": {
  "kernelspec": {
   "display_name": "Python 3",
   "language": "python",
   "name": "python3"
  },
  "language_info": {
   "codemirror_mode": {
    "name": "ipython",
    "version": 3
   },
   "file_extension": ".py",
   "mimetype": "text/x-python",
   "name": "python",
   "nbconvert_exporter": "python",
   "pygments_lexer": "ipython3",
   "version": "3.7.1"
  }
 },
 "nbformat": 4,
 "nbformat_minor": 2
}
